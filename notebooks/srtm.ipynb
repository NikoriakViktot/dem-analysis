{
 "cells": [
  {
   "cell_type": "code",
   "execution_count": null,
   "id": "initial_id",
   "metadata": {
    "collapsed": true
   },
   "outputs": [],
   "source": [
    ""
   ]
  },
  {
   "metadata": {},
   "cell_type": "markdown",
   "source": [
    "NASA Shuttle Radar Topography Mission (SRTM) v003 provides global 1 arc second (~30m) resolution Digital Elevation Models (DEMs) derived from radar interferometry collected during the STS-99 mission of the Space Shuttle Endeavour.\n",
    "These data are distributed in HGT format, which can be processed and converted into GeoTIFF files for further use in geospatial analysis. The data are georeferenced to the WGS84 coordinate system (EPSG:4326) and use Cloud-Optimized GeoTIFF format for improved handling of large datasets in cloud-based environments.\n",
    "\n",
    "The SRTM data product covers approximately 80% of the Earth’s land surface, from 60°N to 56°S latitude, and is made available with an accuracy that improves the geolocation of terrain features. NoData values are indicated by -32767.0, and each elevation data point is represented with a precision of 32-bit floating point values.\n",
    "\n",
    "The spatial resolution of the data is 1 arc second, equivalent to about 30 meters, which allows for detailed analysis of elevation changes and terrain characteristics at a regional scale. These products are vital for studies in hydrology, geology, and climate science.\n",
    "\n",
    "The data files are available for direct download through NASA’s Earthdata Cloud and come with associated metadata in ECHO10 and CMR XML formats, providing users with access to essential information on the dataset’s provenance and quality."
   ],
   "id": "54d91407414b33c0"
  }
 ],
 "metadata": {
  "kernelspec": {
   "display_name": "Python 3",
   "language": "python",
   "name": "python3"
  },
  "language_info": {
   "codemirror_mode": {
    "name": "ipython",
    "version": 2
   },
   "file_extension": ".py",
   "mimetype": "text/x-python",
   "name": "python",
   "nbconvert_exporter": "python",
   "pygments_lexer": "ipython2",
   "version": "2.7.6"
  }
 },
 "nbformat": 4,
 "nbformat_minor": 5
}

{
 "cells": [
  {
   "metadata": {},
   "cell_type": "raw",
   "source": "",
   "id": "8d94120c54de8183"
  },
  {
   "cell_type": "code",
   "id": "initial_id",
   "metadata": {
    "collapsed": true,
    "ExecuteTime": {
     "end_time": "2025-05-23T12:16:33.007325Z",
     "start_time": "2025-05-23T12:16:33.004819Z"
    }
   },
   "source": [
    "from sliderule import icesat2\n",
    "import geopandas as gpd\n",
    "from src.myio import read_gpkg, read_csv, write_parquet, read_dem, read_parquet\n",
    "import pandas as pd"
   ],
   "outputs": [],
   "execution_count": 6
  },
  {
   "metadata": {
    "ExecuteTime": {
     "end_time": "2025-05-23T12:07:15.234738Z",
     "start_time": "2025-05-23T12:07:14.685573Z"
    }
   },
   "cell_type": "code",
   "source": [
    "\n",
    "# 1. Ініціалізація клієнта\n",
    "icesat2.init(\"slideruleearth.io\", verbose=True)"
   ],
   "id": "b18feea3816557f5",
   "outputs": [],
   "execution_count": 2
  },
  {
   "metadata": {
    "ExecuteTime": {
     "end_time": "2025-05-23T12:09:38.017848Z",
     "start_time": "2025-05-23T12:09:37.979029Z"
    }
   },
   "cell_type": "code",
   "source": [
    "\n",
    "# 2. Завантаження твого полігону\n",
    "gdf = read_gpkg(\"basin_grid.gpkg\")\n",
    "print(gdf)\n",
    "\n"
   ],
   "id": "341e943da7f17584",
   "outputs": [
    {
     "name": "stdout",
     "output_type": "stream",
     "text": [
      "   id      left       top     right    bottom  row_index  col_index  fid_2  \\\n",
      "0   7  24.80705  48.03575  24.89705  47.94575          1          1      1   \n",
      "1   8  24.80705  47.94575  24.89705  47.85575          2          1      1   \n",
      "2  11  24.89705  48.12575  24.98705  48.03575          0          2      1   \n",
      "3  12  24.89705  48.03575  24.98705  47.94575          1          2      1   \n",
      "4  13  24.89705  47.94575  24.98705  47.85575          2          2      1   \n",
      "5  14  24.89705  47.85575  24.98705  47.76575          3          2      1   \n",
      "6  15  24.89705  47.76575  24.98705  47.67575          4          2      1   \n",
      "7  18  24.98705  47.94575  25.07705  47.85575          2          3      1   \n",
      "8  19  24.98705  47.85575  25.07705  47.76575          3          3      1   \n",
      "9  20  24.98705  47.76575  25.07705  47.67575          4          3      1   \n",
      "\n",
      "   cat  value label                                           geometry  \n",
      "0    1      1        MULTIPOLYGON (((24.72059 47.94575, 24.72029 47...  \n",
      "1    1      1        MULTIPOLYGON (((24.80694 47.90423, 24.80654 47...  \n",
      "2    1      1        MULTIPOLYGON (((24.80904 48.03582, 24.80918 48...  \n",
      "3    1      1        MULTIPOLYGON (((24.98083 48.03548, 24.98104 48...  \n",
      "4    1      1        MULTIPOLYGON (((24.98705 47.94575, 24.98705 47...  \n",
      "5    1      1        MULTIPOLYGON (((24.87935 47.76575, 24.87946 47...  \n",
      "6    1      1        MULTIPOLYGON (((24.8952 47.69509, 24.89218 47....  \n",
      "7    1      1        MULTIPOLYGON (((25.01318 47.94561, 25.01347 47...  \n",
      "8    1      1        MULTIPOLYGON (((24.98705 47.76575, 24.98705 47...  \n",
      "9    1      1        MULTIPOLYGON (((25.07705 47.75999, 25.07693 47...  \n"
     ]
    }
   ],
   "execution_count": 5
  },
  {
   "metadata": {},
   "cell_type": "code",
   "outputs": [],
   "execution_count": null,
   "source": [
    "\n",
    "\n",
    "\n",
    "# 3. Порожній список для результатів\n",
    "results = []\n",
    "\n",
    "# 4. Цикл по кожному полігону\n",
    "for idx, row in gdf.iterrows():\n",
    "    print(f\"🔄 Обробка полігону {idx+1}/{len(gdf)}\")\n",
    "\n",
    "    try:\n",
    "        region = icesat2.toregion(row.geometry)\n",
    "\n",
    "        # 5. Параметри SlideRule\n",
    "        parms = {\n",
    "            \"poly\": region[\"poly\"],\n",
    "            \"cnf\": 4,\n",
    "            \"ats\": 20.0,\n",
    "            \"cnt\": 10,\n",
    "            \"len\": 40.0,\n",
    "            \"res\": 20.0\n",
    "        }\n",
    "\n",
    "        # 6. Запит ATL06\n",
    "        df = icesat2.atl06p(parms)\n",
    "\n",
    "        if not df.empty:\n",
    "            df[\"grid_id\"] = idx  # додай ID полігону\n",
    "            results.append(df)\n",
    "\n",
    "    except Exception as e:\n",
    "        print(f\"⚠️ Помилка в полігоні {idx}: {e}\")\n",
    "\n",
    "# 7. Об’єднання всіх результатів\n",
    "if results:\n",
    "    combined = gpd.GeoDataFrame(pd.concat(results, ignore_index=True), crs=\"EPSG:4326\")\n",
    "    combined.to_file(\"icesat2_grid_data.geojson\", driver=\"GeoJSON\")\n",
    "    print(\"✅ Дані збережено у icesat2_grid_data.geojson\")\n",
    "else:\n",
    "    print(\"❌ Немає результатів\")\n",
    "\n"
   ],
   "id": "63b53545f6629ab5"
  }
 ],
 "metadata": {
  "kernelspec": {
   "display_name": "Python 3",
   "language": "python",
   "name": "python3"
  },
  "language_info": {
   "codemirror_mode": {
    "name": "ipython",
    "version": 2
   },
   "file_extension": ".py",
   "mimetype": "text/x-python",
   "name": "python",
   "nbconvert_exporter": "python",
   "pygments_lexer": "ipython2",
   "version": "2.7.6"
  }
 },
 "nbformat": 4,
 "nbformat_minor": 5
}
